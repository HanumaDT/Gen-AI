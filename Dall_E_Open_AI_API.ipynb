{
  "nbformat": 4,
  "nbformat_minor": 0,
  "metadata": {
    "colab": {
      "provenance": []
    },
    "kernelspec": {
      "name": "python3",
      "display_name": "Python 3"
    },
    "language_info": {
      "name": "python"
    }
  },
  "cells": [
    {
      "cell_type": "code",
      "execution_count": 6,
      "metadata": {
        "colab": {
          "base_uri": "https://localhost:8080/"
        },
        "id": "QyPOYNrsJNt3",
        "outputId": "606b1227-8ad7-4545-d4b8-75c68bb61cbc"
      },
      "outputs": [
        {
          "output_type": "stream",
          "name": "stdout",
          "text": [
            "https://oaidalleapiprodscus.blob.core.windows.net/private/org-93R0sJE9VsuoIehrdTPbtcWw/user-NmA4vsTq0iEiwzM6eeYW1Djz/img-DKLYx8amuwMkCrweCUjKG8SV.png?st=2024-11-22T08%3A30%3A01Z&se=2024-11-22T10%3A30%3A01Z&sp=r&sv=2024-08-04&sr=b&rscd=inline&rsct=image/png&skoid=d505667d-d6c1-4a0a-bac7-5c84a87759f8&sktid=a48cca56-e6da-484e-a814-9c849652bcb3&skt=2024-11-22T00%3A07%3A23Z&ske=2024-11-23T00%3A07%3A23Z&sks=b&skv=2024-08-04&sig=X6oeIj/Q7mpjXLq%2BFWFsM45dkMDj2gi9iBf1aFJrv0A%3D\n"
          ]
        }
      ],
      "source": [
        "import openai\n",
        "\n",
        "from openai import OpenAI\n",
        "\n",
        "client = OpenAI(api_key = '****')\n",
        "\n",
        "PROMPT = \"gold room from movie the shining\"\n",
        "\n",
        "response = client.images.generate(\n",
        "    model=\"dall-e-3\",\n",
        "    prompt=PROMPT,\n",
        ")\n",
        "\n",
        "print(response.data[0].url)"
      ]
    },
    {
      "cell_type": "code",
      "source": [],
      "metadata": {
        "id": "9-Z1vsVCJbM4"
      },
      "execution_count": null,
      "outputs": []
    }
  ]
}