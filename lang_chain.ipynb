{
 "cells": [
  {
   "cell_type": "code",
   "execution_count": 2,
   "id": "702db493-ca16-4572-a65e-8a0bf76efe70",
   "metadata": {},
   "outputs": [],
   "source": [
    "import warnings\n",
    "warnings.filterwarnings('ignore')\n",
    "import os\n",
    "os.environ['OPENAI_API_KEY'] = \"*****\""
   ]
  },
  {
   "cell_type": "code",
   "execution_count": 3,
   "id": "56b3f026-2b2d-44c2-8311-b6713a8939e1",
   "metadata": {},
   "outputs": [
    {
     "name": "stderr",
     "output_type": "stream",
     "text": [
      "C:\\Users\\tarakahanuma.d\\AppData\\Local\\Temp\\ipykernel_1796\\863933044.py:3: LangChainDeprecationWarning: The class `OpenAI` was deprecated in LangChain 0.0.10 and will be removed in 1.0. An updated version of the class exists in the :class:`~langchain-openai package and should be used instead. To use it run `pip install -U :class:`~langchain-openai` and import as `from :class:`~langchain_openai import OpenAI``.\n",
      "  llm = OpenAI(temperature = 0.5)\n",
      "C:\\Users\\tarakahanuma.d\\AppData\\Local\\Temp\\ipykernel_1796\\863933044.py:4: LangChainDeprecationWarning: The method `BaseLLM.__call__` was deprecated in langchain-core 0.1.7 and will be removed in 1.0. Use :meth:`~invoke` instead.\n",
      "  response = llm(\"I want to open an indian restaurant, give me some fancy name\")\n"
     ]
    },
    {
     "name": "stdout",
     "output_type": "stream",
     "text": [
      "\n",
      "\n",
      "1. \"Saffron Spice\"\n",
      "2. \"Tandoori Temptations\"\n",
      "3. \"Curry Craze\"\n",
      "4. \"Naan Nirvana\"\n",
      "5. \"Masala Magic\"\n",
      "6. \"Chaat Chaat\"\n",
      "7. \"Biryani Bliss\"\n",
      "8. \"Spice Route\"\n",
      "9. \"Garam Masala Grill\"\n",
      "10. \"Indulge in India\"\n"
     ]
    }
   ],
   "source": [
    "import langchain\n",
    "from langchain.llms import OpenAI\n",
    "llm = OpenAI(temperature = 0.5)\n",
    "response = llm(\"I want to open an indian restaurant, give me some fancy name\")\n",
    "print(response)"
   ]
  },
  {
   "cell_type": "code",
   "execution_count": 4,
   "id": "64c1332d-4bba-45c7-bbf3-c4607b5b2a35",
   "metadata": {},
   "outputs": [
    {
     "name": "stdout",
     "output_type": "stream",
     "text": [
      "I want to open a restaurant for Italian food. Suggest a fency name for this.\n"
     ]
    }
   ],
   "source": [
    "from langchain.prompts import PromptTemplate\n",
    "\n",
    "prompt_template_name = PromptTemplate(\n",
    "    input_variables =['cuisine'],\n",
    "    template = \"I want to open a restaurant for {cuisine} food. Suggest a fency name for this.\"\n",
    ")\n",
    "p = prompt_template_name.format(cuisine=\"Italian\")\n",
    "print(p)"
   ]
  },
  {
   "cell_type": "code",
   "execution_count": 5,
   "id": "3381016b-b739-4e6f-a998-54b04640d65d",
   "metadata": {},
   "outputs": [
    {
     "name": "stderr",
     "output_type": "stream",
     "text": [
      "C:\\Users\\tarakahanuma.d\\AppData\\Local\\Temp\\ipykernel_1796\\3110459641.py:8: LangChainDeprecationWarning: The class `LLMChain` was deprecated in LangChain 0.1.17 and will be removed in 1.0. Use :meth:`~RunnableSequence, e.g., `prompt | llm`` instead.\n",
      "  name_chain = LLMChain(llm=llm, prompt=prompt_cuisine)\n",
      "C:\\Users\\tarakahanuma.d\\AppData\\Local\\Temp\\ipykernel_1796\\3110459641.py:16: LangChainDeprecationWarning: The method `Chain.run` was deprecated in langchain 0.1.0 and will be removed in 1.0. Use :meth:`~invoke` instead.\n",
      "  content = chain.run(\"Indian\")\n"
     ]
    },
    {
     "name": "stdout",
     "output_type": "stream",
     "text": [
      "\n",
      "\n",
      "1. Samosas\n",
      "2. Tandoori Chicken\n",
      "3. Butter Chicken\n",
      "4. Lamb Biryani\n",
      "5. Palak Paneer\n",
      "6. Garlic Naan\n",
      "7. Vegetable Korma\n",
      "8. Chicken Tikka Masala\n",
      "9. Chana Masala\n",
      "10. Mango Lassi\n",
      "11. Gulab Jamun\n",
      "12. Masala Chai\n",
      "13. Aloo Gobi\n",
      "14. Chicken Vindaloo\n",
      "15. Malai Kofta.\n"
     ]
    }
   ],
   "source": [
    "from langchain.chains import LLMChain\n",
    "from langchain.chains import SimpleSequentialChain\n",
    "\n",
    "prompt_cuisine = PromptTemplate(\n",
    "    input_variables =['cuisine'],\n",
    "    template = \"I want to open a restaurant for {cuisine} food. Suggest a fancy name for this.\"\n",
    ")\n",
    "name_chain = LLMChain(llm=llm, prompt=prompt_cuisine)\n",
    "prompt_items = PromptTemplate(\n",
    "    input_variables =['restaurant name'],\n",
    "    template = \"Provide the menu items, based on the given {restaurant name}.\"\n",
    ")\n",
    "name_items = LLMChain(llm = llm, prompt=prompt_items)\n",
    "\n",
    "chain = SimpleSequentialChain(chains = [name_chain, name_items])\n",
    "content = chain.run(\"Indian\")\n",
    "print(content)"
   ]
  },
  {
   "cell_type": "code",
   "execution_count": 6,
   "id": "557c6020-e54b-45c3-9eab-476307223fdd",
   "metadata": {},
   "outputs": [
    {
     "name": "stderr",
     "output_type": "stream",
     "text": [
      "C:\\Users\\tarakahanuma.d\\AppData\\Local\\Temp\\ipykernel_1796\\4119750420.py:16: LangChainDeprecationWarning: The method `Chain.__call__` was deprecated in langchain 0.1.0 and will be removed in 1.0. Use :meth:`~invoke` instead.\n",
      "  chain({\"cuisine\": \"Indian\"})\n"
     ]
    },
    {
     "data": {
      "text/plain": [
       "{'cuisine': 'Indian',\n",
       " 'restaurant_name': '\\n\\n\"Maharaja\\'s Palace\"',\n",
       " 'menu_items': '\\n\\n1. Appetizers:\\n- Vegetable Samosas\\n- Chicken Tikka\\n- Paneer Tikka\\n- Papdi Chaat\\n- Aloo Tikki\\n\\n2. Soups:\\n- Mulligatawny Soup\\n- Tomato Rasam\\n- Dal Shorba\\n\\n3. Entrees:\\n- Butter Chicken\\n- Lamb Rogan Josh\\n- Palak Paneer\\n- Chicken Tikka Masala\\n- Vegetable Korma\\n- Chana Masala\\n- Dum Aloo\\n- Tandoori Fish\\n\\n4. Biryani:\\n- Vegetable Biryani\\n- Chicken Biryani\\n- Lamb Biryani\\n- Shrimp Biryani\\n\\n5. Naan and Roti:\\n- Garlic Naan\\n- Butter Naan\\n- Tandoori Roti\\n- Aloo Paratha\\n\\n6. Rice:\\n- Plain Basmati Rice\\n- Jeera Rice\\n- Vegetable Pulao\\n\\n7. Desserts:\\n- Gulab Jamun\\n- Rasmalai\\n- Mango Lassi\\n- Kulfi\\n- Gajar Halwa\\n\\n8. Beverages:\\n- Masala Chai\\n- Mango Lassi\\n- Soft Drinks\\n- Mineral Water\\n- Indian Beer\\n\\nNote: Menu items'}"
      ]
     },
     "execution_count": 6,
     "metadata": {},
     "output_type": "execute_result"
    }
   ],
   "source": [
    "from langchain.chains import SequentialChain\n",
    "\n",
    "prompt_cuisine = PromptTemplate(\n",
    "    input_variables =['cuisine'],\n",
    "    template = \"I want to open a restaurant for {cuisine} food. Suggest a fancy name for this.\"\n",
    ")\n",
    "name_chain = LLMChain(llm=llm, prompt=prompt_cuisine, output_key=\"restaurant_name\")\n",
    "prompt_items = PromptTemplate(\n",
    "    input_variables =['restaurant_name'],\n",
    "    template = \"Provide the menu items, based on the given {restaurant_name}.\"\n",
    ")\n",
    "name_items = LLMChain(llm = llm, prompt=prompt_items, output_key = \"menu_items\")\n",
    "\n",
    "chain = SequentialChain(chains = [name_chain, name_items], input_variables=['cuisine'], output_variables = ['restaurant_name', 'menu_items'])\n",
    "\n",
    "chain({\"cuisine\": \"Indian\"})\n"
   ]
  },
  {
   "cell_type": "code",
   "execution_count": 25,
   "id": "952080fb-fb75-43c3-a813-755428f8f98a",
   "metadata": {},
   "outputs": [
    {
     "name": "stdout",
     "output_type": "stream",
     "text": [
      "Defaulting to user installation because normal site-packages is not writeable\n",
      "Requirement already satisfied: wikipedia in c:\\users\\tarakahanuma.d\\appdata\\roaming\\python\\python312\\site-packages (1.4.0)\n",
      "Requirement already satisfied: beautifulsoup4 in c:\\programdata\\anaconda3\\lib\\site-packages (from wikipedia) (4.12.3)\n",
      "Requirement already satisfied: requests<3.0.0,>=2.0.0 in c:\\programdata\\anaconda3\\lib\\site-packages (from wikipedia) (2.32.2)\n",
      "Requirement already satisfied: charset-normalizer<4,>=2 in c:\\programdata\\anaconda3\\lib\\site-packages (from requests<3.0.0,>=2.0.0->wikipedia) (2.0.4)\n",
      "Requirement already satisfied: idna<4,>=2.5 in c:\\programdata\\anaconda3\\lib\\site-packages (from requests<3.0.0,>=2.0.0->wikipedia) (3.7)\n",
      "Requirement already satisfied: urllib3<3,>=1.21.1 in c:\\programdata\\anaconda3\\lib\\site-packages (from requests<3.0.0,>=2.0.0->wikipedia) (2.2.2)\n",
      "Requirement already satisfied: certifi>=2017.4.17 in c:\\programdata\\anaconda3\\lib\\site-packages (from requests<3.0.0,>=2.0.0->wikipedia) (2024.8.30)\n",
      "Requirement already satisfied: soupsieve>1.2 in c:\\programdata\\anaconda3\\lib\\site-packages (from beautifulsoup4->wikipedia) (2.5)\n",
      "\n",
      "\n",
      "\u001b[1m> Entering new AgentExecutor chain...\u001b[0m\n",
      "\u001b[32;1m\u001b[1;3m I need to find out when Elon Musk was born and then calculate his age in 2024.\n",
      "Action: wikipedia\n",
      "Action Input: elon musk\u001b[0m\n",
      "Observation: \u001b[36;1m\u001b[1;3mPage: Elon Musk\n",
      "Summary: Elon Reeve Musk (; born June 28, 1971) is a businessman known for his key roles in the space company SpaceX and the automotive company Tesla, Inc. Other involvements include ownership of X Corp., the company that operates the social media platform X (formerly Twitter), and his role in the founding of the Boring Company, xAI, Neuralink, and OpenAI. In November 2024, President-elect Donald Trump announced Musk is set to become co-chair of the proposed Department of Government Efficiency (DOGE) in the second Trump administration. Musk is the wealthiest individual in the world; as of November 2024 Forbes estimates his net worth to be US$304 billion.\n",
      "Musk was born in Pretoria, South Africa, and briefly attended the University of Pretoria before immigrating to Canada at the age of 18, acquiring citizenship through his Canadian-born mother. Two years later, he matriculated at Queen's University at Kingston in Canada. Musk later transferred to the University of Pennsylvania and received bachelor's degrees in economics and physics. He moved to California in 1995 to attend Stanford University but never enrolled in classes, and with his brother Kimbal co-founded the online city guide software company Zip2. The startup was acquired by Compaq for $307 million in 1999. That same year, Musk co-founded X.com, a direct bank. X.com merged with Confinity in 2000 to form PayPal. In 2002, Musk acquired US citizenship, and that October eBay acquired PayPal for $1.5 billion. Using $100 million of the money he made from the sale of PayPal, Musk founded SpaceX, a spaceflight services company, in 2002. \n",
      "In 2004, Musk was an early investor in electric-vehicle manufacturer Tesla Motors, Inc. (later Tesla, Inc.), providing most of the initial financing and assuming the position of the company's chairman. He later became the product architect and, in 2008, the CEO. In 2006, Musk helped create SolarCity, a solar energy company that was acquired by Tesla in 2016 and became Tesla Energy. In 2013, he proposed a hyperloop high-speed vactrain transportation system. In 2015, he co-founded OpenAI, a nonprofit artificial intelligence research company. The following year Musk co-founded Neuralink, a neurotechnology company developing brain–computer interfaces, and The Boring Company, a tunnel construction company. In 2018 the U.S. Securities and Exchange Commission (SEC) sued Musk, alleging that he had falsely announced that he had secured funding for a private takeover of Tesla. To settle the case Musk stepped down as the chairman of Tesla and paid a $20 million fine. In 2022, he acquired Twitter for $44 billion, merged the company into the newly-created X Corp. and rebranded the service as X the following year. In March 2023, Musk founded xAI, an artificial-intelligence company.\n",
      "Musk's actions and expressed views have made him a polarizing figure. He has been criticized for making unscientific and misleading statements, including COVID-19 misinformation, promoting right-wing conspiracy theories, and endorsing an antisemitic trope; he has since apologized for the latter. His ownership of Twitter has been controversial because of the layoffs of large numbers of employees, an increase in hate speech, misinformation and disinformation posts on the website, and changes to website features, including verification. \n",
      "In early 2024, Musk became active in American politics as a vocal and financial supporter of Donald Trump, becoming Trump's second-largest individual donor in October 2024. In November 2024, Trump announced that he had chosen Musk along with Vivek Ramaswamy to co-lead DOGE, a new advisory board which aims to improve government efficiency through measures such as slashing \"excess regulations\" and cutting \"wasteful expenditures\".\n",
      "\n",
      "Page: Views of Elon Musk\n",
      "Summary: Elon Musk is the CEO or owner of multiple companies including Tesla, SpaceX, and X Corp, and has expressed many views on a wide variety of subjects, ranging from politics to s\u001b[0m\n",
      "Thought:\u001b[32;1m\u001b[1;3m Now I need to calculate his age in 2024.\n",
      "Action: Calculator\n",
      "Action Input: 2024 - 1971\u001b[0m\n",
      "Observation: \u001b[33;1m\u001b[1;3mAnswer: 53\u001b[0m\n",
      "Thought:\u001b[32;1m\u001b[1;3m I now know the final answer.\n",
      "Final Answer: Elon Musk will be 53 years old in 2024.\u001b[0m\n",
      "\n",
      "\u001b[1m> Finished chain.\u001b[0m\n"
     ]
    },
    {
     "data": {
      "text/plain": [
       "'Elon Musk will be 53 years old in 2024.'"
      ]
     },
     "execution_count": 25,
     "metadata": {},
     "output_type": "execute_result"
    }
   ],
   "source": [
    "!pip install wikipedia\n",
    "from langchain.agents import AgentType, initialize_agent, load_tools\n",
    "from langchain.llms import OpenAI\n",
    "\n",
    "tools = load_tools([\"wikipedia\", \"llm-math\"], llm=llm)\n",
    "agent = initialize_agent(tools, llm, agent = AgentType.ZERO_SHOT_REACT_DESCRIPTION, verbose = True)\n",
    "agent.run(\"When was elon musk born? What's his age as of 2024?\")"
   ]
  },
  {
   "cell_type": "code",
   "execution_count": 82,
   "id": "1eef3435-bdff-4455-9b03-1517ace539eb",
   "metadata": {},
   "outputs": [
    {
     "name": "stdout",
     "output_type": "stream",
     "text": [
      "Defaulting to user installation because normal site-packages is not writeable\n",
      "Requirement already satisfied: google-search-results in c:\\users\\tarakahanuma.d\\appdata\\roaming\\python\\python312\\site-packages (2.4.2)\n",
      "Requirement already satisfied: requests in c:\\programdata\\anaconda3\\lib\\site-packages (from google-search-results) (2.32.2)\n",
      "Requirement already satisfied: charset-normalizer<4,>=2 in c:\\programdata\\anaconda3\\lib\\site-packages (from requests->google-search-results) (2.0.4)\n",
      "Requirement already satisfied: idna<4,>=2.5 in c:\\programdata\\anaconda3\\lib\\site-packages (from requests->google-search-results) (3.7)\n",
      "Requirement already satisfied: urllib3<3,>=1.21.1 in c:\\programdata\\anaconda3\\lib\\site-packages (from requests->google-search-results) (2.2.2)\n",
      "Requirement already satisfied: certifi>=2017.4.17 in c:\\programdata\\anaconda3\\lib\\site-packages (from requests->google-search-results) (2024.8.30)\n",
      "\n",
      "\n",
      "\u001b[1m> Entering new AgentExecutor chain...\u001b[0m\n",
      "\u001b[32;1m\u001b[1;3m I should use the search engine to find information about the 2024 parliament elections in India.\n",
      "Action: Search\n",
      "Action Input: \"2024 parliament elections India winner\"\u001b[0m\n",
      "Observation: \u001b[36;1m\u001b[1;3m['General elections were held in India from 19 April to 1 June 2024 in seven phases, to elect all 543 members of the Lok Sabha. Votes were counted and the ...', \"The results of India's general elections to constitute 18th Lok Sabha, held in April–June 2024 were announced on 4th and 5th June 2024.\", \"See results and maps from India's 2024 Lok Sabha elections.\", \"Prime Minister Narendra Modi's National Democratic Alliance coalition has won a majority in parliament, according to official results from ...\", 'Results of the Indian general elections were out on Tuesday with the National Democratic Alliance (NDA), led by the Bharatiya Janata Party (BJP) ...', \"Narendra Modi vowed to continue as India's prime minister even after his party lost its outright majority in parliament.\", 'The governing Bharatiya Janata Party (BJP) of Prime Minister Narendra Modi won 240 seats, falling short of the 272-mark that signifies a ...', \"Prime Minister Narendra Modi will serve a third term in office after India's election authority confirmed the National Democratic Alliance coalition headed ...\", 'Prime Minister Narendra Modi and his Bharatiya Janata Party (BJP) won the most seats for the third consecutive time, but have fallen short of a ...', '2024 India Election Results: Lok Sabha Election results of UP, Andhra Pradesh, Bihar, MP, TN, Telangana, Karnataka, Kerala, WB, Odisha, Maharashtra, J&K, ...']\u001b[0m\n",
      "Thought:\u001b[32;1m\u001b[1;3m I should read through the results and see which party won the majority of seats in parliament.\n",
      "Action: Search\n",
      "Action Input: \"2024 parliament elections India majority\"\u001b[0m\n",
      "Observation: \u001b[36;1m\u001b[1;3m['General elections were held in India from 19 April to 1 June 2024 in seven phases, to elect all 543 members of the Lok Sabha. Votes were counted and the ...', \"Prime Minister Narendra Modi declared victory for his alliance in India's general election, claiming a mandate to move forward with his agenda.\", \"The results of India's general elections to constitute 18th Lok Sabha, held in April–June 2024 were announced on 4th and 5th June 2024.\", \"See results and maps from India's 2024 Lok Sabha elections.\", \"Prime Minister Narendra Modi will serve a third term in office after India's election authority confirmed the National Democratic Alliance coalition headed ...\", 'Results of the Indian general elections were out on Tuesday with the National Democratic Alliance (NDA), led by the Bharatiya Janata Party (BJP), winning a ...', 'The governing Bharatiya Janata Party (BJP) of Prime Minister Narendra Modi won 240 seats, falling short of the 272-mark that signifies a majority in the Lok ...', 'Indians will vote in general elections in April–May 2024, for the first time in five years. The 2024 election will be the largest democratic exercise in ...', \"Congress' allies, 131, 0. Narendra Modi vowed to continue as India's prime minister even after his party lost its outright majority in ...\", \"More than 968 million voters were registered ahead of India's 2024 general election, which would decide the majority party in the Lok Sabha, India's lower ...\"]\u001b[0m\n",
      "Thought:\u001b[32;1m\u001b[1;3m It looks like the National Democratic Alliance (NDA), led by the Bharatiya Janata Party (BJP), won the majority of seats in parliament.\n",
      "Action: Calculator\n",
      "Action Input: 240/543\u001b[0m\n",
      "Observation: \u001b[33;1m\u001b[1;3mAnswer: 0.4419889502762431\u001b[0m\n",
      "Thought:\u001b[32;1m\u001b[1;3m I should convert this decimal into a percentage to get a better understanding of the majority.\n",
      "Action: Calculator\n",
      "Action Input: 0.4419889502762431*100\u001b[0m\n",
      "Observation: \u001b[33;1m\u001b[1;3mAnswer: 44.19889502762431\u001b[0m\n",
      "Thought:\u001b[32;1m\u001b[1;3m I now know that the NDA won 44.2% of the seats in parliament, giving them the majority.\n",
      "Final Answer: The National Democratic Alliance (NDA), led by the Bharatiya Janata Party (BJP), won the majority of seats in the 2024 parliament elections in India with 44.2% of the seats.\u001b[0m\n",
      "\n",
      "\u001b[1m> Finished chain.\u001b[0m\n"
     ]
    },
    {
     "data": {
      "text/plain": [
       "'The National Democratic Alliance (NDA), led by the Bharatiya Janata Party (BJP), won the majority of seats in the 2024 parliament elections in India with 44.2% of the seats.'"
      ]
     },
     "execution_count": 82,
     "metadata": {},
     "output_type": "execute_result"
    }
   ],
   "source": [
    "!pip install google-search-results\n",
    "os.environ['SERPAPI_API_KEY'] = \"*****\"\n",
    "llm = OpenAI(temperature = 0)\n",
    "tools = load_tools([\"serpapi\", \"llm-math\"], llm=llm)\n",
    "agent = initialize_agent(tools, llm, agent = AgentType.ZERO_SHOT_REACT_DESCRIPTION, verbose = True)\n",
    "agent.run(\"Who is the winner in 2024 parliament elections in india?\")"
   ]
  },
  {
   "cell_type": "code",
   "execution_count": 94,
   "id": "583483eb-13d8-44df-a9f7-8b1df773712d",
   "metadata": {},
   "outputs": [
    {
     "name": "stderr",
     "output_type": "stream",
     "text": [
      "C:\\Users\\tarakahanuma.d\\AppData\\Local\\Temp\\ipykernel_1796\\751664434.py:2: LangChainDeprecationWarning: Please see the migration guide at: https://python.langchain.com/docs/versions/migrating_memory/\n",
      "  memory = ConversationBufferMemory()\n"
     ]
    },
    {
     "data": {
      "text/plain": [
       "'\\n\\n\"Spice Palace\"'"
      ]
     },
     "execution_count": 94,
     "metadata": {},
     "output_type": "execute_result"
    }
   ],
   "source": [
    "from langchain.memory import ConversationBufferMemory\n",
    "memory = ConversationBufferMemory()\n",
    "chain = LLMChain(llm=llm, prompt=prompt_cuisine, memory = memory)\n",
    "chain.run(\"Indian\")"
   ]
  },
  {
   "cell_type": "code",
   "execution_count": 96,
   "id": "a7d15921-1f60-4502-b76c-694d2253edb4",
   "metadata": {},
   "outputs": [
    {
     "data": {
      "text/plain": [
       "'\\n\\n\"El Sabor de México\" (The Flavor of Mexico)'"
      ]
     },
     "execution_count": 96,
     "metadata": {},
     "output_type": "execute_result"
    }
   ],
   "source": [
    "chain.run(\"Mexican\")"
   ]
  },
  {
   "cell_type": "code",
   "execution_count": 98,
   "id": "f1d1d327-7113-465a-9e82-b5b62992ec27",
   "metadata": {},
   "outputs": [
    {
     "name": "stdout",
     "output_type": "stream",
     "text": [
      "chat_memory=InMemoryChatMessageHistory(messages=[HumanMessage(content='Indian', additional_kwargs={}, response_metadata={}), AIMessage(content='\\n\\n\"Spice Palace\"', additional_kwargs={}, response_metadata={}), HumanMessage(content='Mexican', additional_kwargs={}, response_metadata={}), AIMessage(content='\\n\\n\"El Sabor de México\" (The Flavor of Mexico)', additional_kwargs={}, response_metadata={})])\n"
     ]
    }
   ],
   "source": [
    "print(chain.memory)"
   ]
  },
  {
   "cell_type": "code",
   "execution_count": 100,
   "id": "d3e9c7d9-5424-4ce2-ac45-9cf269b3c69b",
   "metadata": {},
   "outputs": [
    {
     "name": "stdout",
     "output_type": "stream",
     "text": [
      "Human: Indian\n",
      "AI: \n",
      "\n",
      "\"Spice Palace\"\n",
      "Human: Mexican\n",
      "AI: \n",
      "\n",
      "\"El Sabor de México\" (The Flavor of Mexico)\n"
     ]
    }
   ],
   "source": [
    "print(chain.memory.buffer)"
   ]
  },
  {
   "cell_type": "code",
   "execution_count": 102,
   "id": "6be53d95-5151-45dd-81cf-a751a359d88d",
   "metadata": {},
   "outputs": [
    {
     "name": "stderr",
     "output_type": "stream",
     "text": [
      "C:\\Users\\tarakahanuma.d\\AppData\\Local\\Temp\\ipykernel_1796\\706223796.py:2: LangChainDeprecationWarning: The class `ConversationChain` was deprecated in LangChain 0.2.7 and will be removed in 1.0. Use :meth:`~RunnableWithMessageHistory: https://python.langchain.com/v0.2/api_reference/core/runnables/langchain_core.runnables.history.RunnableWithMessageHistory.html` instead.\n",
      "  convo = ConversationChain(llm = OpenAI(temperature=0))\n"
     ]
    },
    {
     "data": {
      "text/plain": [
       "PromptTemplate(input_variables=['history', 'input'], input_types={}, partial_variables={}, template='The following is a friendly conversation between a human and an AI. The AI is talkative and provides lots of specific details from its context. If the AI does not know the answer to a question, it truthfully says it does not know.\\n\\nCurrent conversation:\\n{history}\\nHuman: {input}\\nAI:')"
      ]
     },
     "execution_count": 102,
     "metadata": {},
     "output_type": "execute_result"
    }
   ],
   "source": [
    "from langchain.chains import ConversationChain\n",
    "convo = ConversationChain(llm = OpenAI(temperature=0))\n",
    "convo.prompt"
   ]
  },
  {
   "cell_type": "code",
   "execution_count": 104,
   "id": "06dc0bff-ec8d-4809-b594-8200bcf09380",
   "metadata": {},
   "outputs": [
    {
     "data": {
      "text/plain": [
       "'The following is a friendly conversation between a human and an AI. The AI is talkative and provides lots of specific details from its context. If the AI does not know the answer to a question, it truthfully says it does not know.\\n\\nCurrent conversation:\\n{history}\\nHuman: {input}\\nAI:'"
      ]
     },
     "execution_count": 104,
     "metadata": {},
     "output_type": "execute_result"
    }
   ],
   "source": [
    "convo.prompt.template"
   ]
  },
  {
   "cell_type": "code",
   "execution_count": 106,
   "id": "423be49c-e664-44a2-849a-273245fc8c9b",
   "metadata": {},
   "outputs": [
    {
     "data": {
      "text/plain": [
       "\" The first men's cricket world cup was won by the West Indies in 1975. They defeated Australia in the final by 17 runs. The tournament was held in England and was organized by the International Cricket Council. The West Indies team was led by Clive Lloyd and had players such as Viv Richards, Gordon Greenidge, and Michael Holding. The tournament featured eight teams and was played in a round-robin format, with the top two teams advancing to the final. The West Indies had a dominant performance throughout the tournament, winning all their matches except for one tie against Sri Lanka.\""
      ]
     },
     "execution_count": 106,
     "metadata": {},
     "output_type": "execute_result"
    }
   ],
   "source": [
    "convo.run(\"Who won the first men's cricket world cup?\")"
   ]
  },
  {
   "cell_type": "code",
   "execution_count": 110,
   "id": "ece2c3d3-6d4b-4317-b9fc-7a3f0d526fbc",
   "metadata": {},
   "outputs": [
    {
     "data": {
      "text/plain": [
       "ConversationBufferMemory(chat_memory=InMemoryChatMessageHistory(messages=[HumanMessage(content=\"Who won the first men's cricket world cup?\", additional_kwargs={}, response_metadata={}), AIMessage(content=\" The first men's cricket world cup was won by the West Indies in 1975. They defeated Australia in the final by 17 runs. The tournament was held in England and was organized by the International Cricket Council. The West Indies team was led by Clive Lloyd and had players such as Viv Richards, Gordon Greenidge, and Michael Holding. The tournament featured eight teams and was played in a round-robin format, with the top two teams advancing to the final. The West Indies had a dominant performance throughout the tournament, winning all their matches except for one tie against Sri Lanka.\", additional_kwargs={}, response_metadata={})]))"
      ]
     },
     "execution_count": 110,
     "metadata": {},
     "output_type": "execute_result"
    }
   ],
   "source": [
    "convo.memory"
   ]
  },
  {
   "cell_type": "code",
   "execution_count": 112,
   "id": "d1ff1653-71aa-4869-a92c-6604420bb03e",
   "metadata": {},
   "outputs": [
    {
     "data": {
      "text/plain": [
       "' The answer to 5+5 is 10.'"
      ]
     },
     "execution_count": 112,
     "metadata": {},
     "output_type": "execute_result"
    }
   ],
   "source": [
    "convo.run(\"5+5?\")"
   ]
  },
  {
   "cell_type": "code",
   "execution_count": 116,
   "id": "e6fd1935-f72a-4260-8b5c-b7aa44866869",
   "metadata": {},
   "outputs": [
    {
     "data": {
      "text/plain": [
       "\"Human: Who won the first men's cricket world cup?\\nAI:  The first men's cricket world cup was won by the West Indies in 1975. They defeated Australia in the final by 17 runs. The tournament was held in England and was organized by the International Cricket Council. The West Indies team was led by Clive Lloyd and had players such as Viv Richards, Gordon Greenidge, and Michael Holding. The tournament featured eight teams and was played in a round-robin format, with the top two teams advancing to the final. The West Indies had a dominant performance throughout the tournament, winning all their matches except for one tie against Sri Lanka.\\nHuman: 5+5?\\nAI:  The answer to 5+5 is 10.\""
      ]
     },
     "execution_count": 116,
     "metadata": {},
     "output_type": "execute_result"
    }
   ],
   "source": [
    "convo.memory.buffer"
   ]
  },
  {
   "cell_type": "code",
   "execution_count": 118,
   "id": "65d53d3f-8c45-48e6-9b7b-ed80428195e0",
   "metadata": {},
   "outputs": [
    {
     "name": "stderr",
     "output_type": "stream",
     "text": [
      "C:\\Users\\tarakahanuma.d\\AppData\\Local\\Temp\\ipykernel_1796\\3428506906.py:2: LangChainDeprecationWarning: Please see the migration guide at: https://python.langchain.com/docs/versions/migrating_memory/\n",
      "  memory = ConversationBufferWindowMemory(k = 2)\n"
     ]
    },
    {
     "data": {
      "text/plain": [
       "\" The first men's cricket world cup was won by the West Indies in 1975. They defeated Australia in the final by 17 runs. The tournament was held in England and was organized by the International Cricket Council. The West Indies team was led by Clive Lloyd and had players such as Viv Richards, Gordon Greenidge, and Michael Holding. The tournament featured eight teams and was played in a round-robin format, with the top two teams advancing to the final. The West Indies had a dominant performance throughout the tournament, winning all their matches except for one tie against Sri Lanka.\""
      ]
     },
     "execution_count": 118,
     "metadata": {},
     "output_type": "execute_result"
    }
   ],
   "source": [
    "from langchain.memory import ConversationBufferWindowMemory\n",
    "memory = ConversationBufferWindowMemory(k = 2)\n",
    "\n",
    "convo_2 = ConversationChain(llm = OpenAI(temperature = 0), memory = memory)\n",
    "convo_2.run(\"Who won the first men's cricket world cup?\")"
   ]
  },
  {
   "cell_type": "code",
   "execution_count": 120,
   "id": "ba36c839-a2d4-441b-a81d-5264e324fe8e",
   "metadata": {},
   "outputs": [
    {
     "data": {
      "text/plain": [
       "\" The man of the series for the first men's cricket world cup was Glenn Turner from New Zealand. He scored 333 runs in the tournament, including a century against East Africa. Turner was also the leading run-scorer for his team and played a crucial role in their journey to the semi-finals. He was known for his elegant batting style and was considered one of the best batsmen of his time. Turner was also a part of the ICC's team of the tournament, along with players like Clive Lloyd, Viv Richards, and Gary Gilmour.\""
      ]
     },
     "execution_count": 120,
     "metadata": {},
     "output_type": "execute_result"
    }
   ],
   "source": [
    "convo_2.run(\"Who won the man of the series?\")"
   ]
  },
  {
   "cell_type": "code",
   "execution_count": null,
   "id": "7a3183e8-f180-4293-9ff2-19ab693fb788",
   "metadata": {},
   "outputs": [],
   "source": []
  }
 ],
 "metadata": {
  "kernelspec": {
   "display_name": "Python 3 (ipykernel)",
   "language": "python",
   "name": "python3"
  },
  "language_info": {
   "codemirror_mode": {
    "name": "ipython",
    "version": 3
   },
   "file_extension": ".py",
   "mimetype": "text/x-python",
   "name": "python",
   "nbconvert_exporter": "python",
   "pygments_lexer": "ipython3",
   "version": "3.12.4"
  }
 },
 "nbformat": 4,
 "nbformat_minor": 5
}
